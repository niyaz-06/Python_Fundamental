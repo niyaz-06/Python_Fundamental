{
 "cells": [
  {
   "cell_type": "code",
   "execution_count": 1,
   "id": "3d3d8894-c758-4ba0-b3f1-d91172d02238",
   "metadata": {},
   "outputs": [
    {
     "name": "stdout",
     "output_type": "stream",
     "text": [
      "Welcome to Python world\n"
     ]
    }
   ],
   "source": [
    "print(\"Welcome to Python world\")"
   ]
  },
  {
   "cell_type": "code",
   "execution_count": null,
   "id": "ff8e3b9e-b4b6-45f0-90ca-f084f5f3be34",
   "metadata": {},
   "outputs": [],
   "source": [
    "Introduction to Python Programing"
   ]
  },
  {
   "cell_type": "code",
   "execution_count": null,
   "id": "e1b9c7cb-b333-4848-a703-11ba1e066e19",
   "metadata": {},
   "outputs": [],
   "source": [
    "Understand the variables in python"
   ]
  },
  {
   "cell_type": "code",
   "execution_count": 1,
   "id": "ddb97d79-a153-4d34-ab5d-f4b9e017ca81",
   "metadata": {},
   "outputs": [],
   "source": [
    "x = 2\n",
    "y = 3"
   ]
  },
  {
   "cell_type": "code",
   "execution_count": 5,
   "id": "495691e0-9322-4d65-a7df-26f442bf48a9",
   "metadata": {},
   "outputs": [
    {
     "name": "stdout",
     "output_type": "stream",
     "text": [
      "5\n"
     ]
    }
   ],
   "source": [
    "z = x+y\n",
    "\n",
    "print(z)"
   ]
  },
  {
   "cell_type": "code",
   "execution_count": null,
   "id": "1dfbce87-ad77-48a6-bd70-828542099af6",
   "metadata": {},
   "outputs": [],
   "source": [
    " Rules for executing the variables :"
   ]
  },
  {
   "cell_type": "code",
   "execution_count": null,
   "id": "eba21f52-be8f-43ee-81f9-517d0a43189f",
   "metadata": {},
   "outputs": [],
   "source": [
    "Rule No.1 : No Name spaces while declaring the variable Name"
   ]
  },
  {
   "cell_type": "code",
   "execution_count": 1,
   "id": "710ba875-95f0-4816-8ec0-17c08c3e5d8b",
   "metadata": {},
   "outputs": [
    {
     "ename": "SyntaxError",
     "evalue": "invalid syntax (3762232295.py, line 1)",
     "output_type": "error",
     "traceback": [
      "\u001b[1;36m  Cell \u001b[1;32mIn[1], line 1\u001b[1;36m\u001b[0m\n\u001b[1;33m    first name = \"myname\"\u001b[0m\n\u001b[1;37m          ^\u001b[0m\n\u001b[1;31mSyntaxError\u001b[0m\u001b[1;31m:\u001b[0m invalid syntax\n"
     ]
    }
   ],
   "source": [
    "first name = \"myname\"\n",
    "print(first name)"
   ]
  },
  {
   "cell_type": "code",
   "execution_count": 3,
   "id": "8f432045-560a-480f-9676-ea65e2e79bd1",
   "metadata": {},
   "outputs": [
    {
     "name": "stdout",
     "output_type": "stream",
     "text": [
      "myname\n"
     ]
    }
   ],
   "source": [
    "firstname = \"myname\"\n",
    "print(firstname)"
   ]
  },
  {
   "cell_type": "code",
   "execution_count": null,
   "id": "761b9200-2615-412d-bc4f-4ee7bd0345f8",
   "metadata": {},
   "outputs": [],
   "source": [
    "Rule No.2 : Avariable name should not start with a number"
   ]
  },
  {
   "cell_type": "code",
   "execution_count": null,
   "id": "97a5d5cf-6d1a-43d5-9cce-e8eb70cfec50",
   "metadata": {},
   "outputs": [],
   "source": [
    "1name = \"numbername\""
   ]
  },
  {
   "cell_type": "code",
   "execution_count": 3,
   "id": "b0384fda-a39f-40ef-8ea4-c1a31c7e353b",
   "metadata": {},
   "outputs": [
    {
     "ename": "SyntaxError",
     "evalue": "invalid decimal literal (989602786.py, line 1)",
     "output_type": "error",
     "traceback": [
      "\u001b[1;36m  Cell \u001b[1;32mIn[3], line 1\u001b[1;36m\u001b[0m\n\u001b[1;33m    print(1name)\u001b[0m\n\u001b[1;37m          ^\u001b[0m\n\u001b[1;31mSyntaxError\u001b[0m\u001b[1;31m:\u001b[0m invalid decimal literal\n"
     ]
    }
   ],
   "source": [
    "print(1name)"
   ]
  },
  {
   "cell_type": "code",
   "execution_count": 7,
   "id": "0b7841d3-9e23-4538-8461-54c21053faa3",
   "metadata": {},
   "outputs": [
    {
     "name": "stdout",
     "output_type": "stream",
     "text": [
      "numbername\n"
     ]
    }
   ],
   "source": [
    "name1 = \"numbername\"\n",
    "print(name1)"
   ]
  },
  {
   "cell_type": "code",
   "execution_count": null,
   "id": "03c45813-dbbe-4ab3-8730-d23479c6573e",
   "metadata": {},
   "outputs": [],
   "source": [
    "Rule No. 3 : a variable should not contains any special character"
   ]
  },
  {
   "cell_type": "code",
   "execution_count": null,
   "id": "15041c59-af71-4fb1-803c-3b3e26dc9fc8",
   "metadata": {},
   "outputs": [],
   "source": [
    "! @ # $ 5"
   ]
  },
  {
   "cell_type": "code",
   "execution_count": 9,
   "id": "5e7ae6d8-2338-4263-9800-ec24457d28e3",
   "metadata": {},
   "outputs": [
    {
     "ename": "SyntaxError",
     "evalue": "invalid syntax (1453653871.py, line 1)",
     "output_type": "error",
     "traceback": [
      "\u001b[1;36m  Cell \u001b[1;32mIn[9], line 1\u001b[1;36m\u001b[0m\n\u001b[1;33m    name@ = \"charactername\"\u001b[0m\n\u001b[1;37m          ^\u001b[0m\n\u001b[1;31mSyntaxError\u001b[0m\u001b[1;31m:\u001b[0m invalid syntax\n"
     ]
    }
   ],
   "source": [
    "name@ = \"charactername\""
   ]
  },
  {
   "cell_type": "code",
   "execution_count": null,
   "id": "05155699-6fe5-4c5e-8c5c-1af82c6417bb",
   "metadata": {},
   "outputs": [],
   "source": []
  }
 ],
 "metadata": {
  "kernelspec": {
   "display_name": "Python 3 (ipykernel)",
   "language": "python",
   "name": "python3"
  },
  "language_info": {
   "codemirror_mode": {
    "name": "ipython",
    "version": 3
   },
   "file_extension": ".py",
   "mimetype": "text/x-python",
   "name": "python",
   "nbconvert_exporter": "python",
   "pygments_lexer": "ipython3",
   "version": "3.12.4"
  }
 },
 "nbformat": 4,
 "nbformat_minor": 5
}
